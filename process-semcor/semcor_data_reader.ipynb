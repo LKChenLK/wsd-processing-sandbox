{
 "cells": [
  {
   "cell_type": "code",
   "execution_count": 1,
   "id": "163dfe85",
   "metadata": {},
   "outputs": [
    {
     "name": "stderr",
     "output_type": "stream",
     "text": [
      "[nltk_data] Downloading package semcor to\n",
      "[nltk_data]     /home/nlplab/kevintuan/nltk_data...\n",
      "[nltk_data]   Package semcor is already up-to-date!\n",
      "[nltk_data] Downloading package wordnet to\n",
      "[nltk_data]     /home/nlplab/kevintuan/nltk_data...\n",
      "[nltk_data]   Package wordnet is already up-to-date!\n"
     ]
    },
    {
     "data": {
      "text/plain": [
       "True"
      ]
     },
     "execution_count": 1,
     "metadata": {},
     "output_type": "execute_result"
    }
   ],
   "source": [
    "import nltk\n",
    "nltk.download('semcor')\n",
    "nltk.download('wordnet')"
   ]
  },
  {
   "cell_type": "code",
   "execution_count": 9,
   "id": "639fe893",
   "metadata": {},
   "outputs": [],
   "source": [
    "from nltk.corpus import semcor\n",
    "from nltk.corpus import wordnet as wn\n"
   ]
  },
  {
   "cell_type": "code",
   "execution_count": 4,
   "metadata": {},
   "outputs": [],
   "source": [
    "from tqdm import tqdm"
   ]
  },
  {
   "cell_type": "code",
   "execution_count": 14,
   "metadata": {},
   "outputs": [
    {
     "name": "stdout",
     "output_type": "stream",
     "text": [
      "[Tree('DT', ['The']), Tree('group.n.01', [Tree('NE', [Tree('NNP', ['Fulton', 'County', 'Grand', 'Jury'])])]), Tree('say.v.01', [Tree('VB', ['said'])]), Tree('friday.n.01', [Tree('NN', ['Friday'])]), Tree('DT', ['an']), Tree('investigation.n.01', [Tree('NN', ['investigation'])]), Tree('IN', ['of']), Tree('atlanta.n.01', [Tree('NN', ['Atlanta'])]), Tree('POS', [\"'s\"]), Tree('recent.s.02', [Tree('JJ', ['recent'])]), Tree('primary_election.n.01', [Tree('NN', ['primary', 'election'])]), Tree('produce.v.04', [Tree('VB', ['produced'])]), Tree(None, ['``']), Tree('DT', ['no']), Tree('evidence.n.01', [Tree('NN', ['evidence'])]), Tree(None, [\"''\"]), Tree('IN', ['that']), Tree('DT', ['any']), Tree('irregularity.n.01', [Tree('NN', ['irregularities'])]), Tree('take_place.v.01', [Tree('VB', ['took', 'place'])]), Tree(None, ['.'])]\n",
      "(DT The)\n"
     ]
    }
   ],
   "source": [
    "for s in semcor.tagged_sents(tag=\"both\"):\n",
    "    print(s)\n",
    "    for i in s:\n",
    "        print(i)\n",
    "        break\n",
    "    break"
   ]
  },
  {
   "cell_type": "code",
   "execution_count": 10,
   "id": "b82de7f8",
   "metadata": {},
   "outputs": [
    {
     "name": "stderr",
     "output_type": "stream",
     "text": [
      "100%|██████████| 37176/37176 [00:52<00:00, 711.57it/s] \n"
     ]
    }
   ],
   "source": [
    "semcor_senses = dict()\n",
    "semcor_count = dict()\n",
    "for sent in tqdm(semcor.tagged_sents(tag=\"both\")):\n",
    "    for i in sent:\n",
    "        if type(i.label()) != str and i.label() is not None:\n",
    "            pos = i[0].label()\n",
    "            syn = i.label().synset()\n",
    "            \n",
    "            if pos in semcor_senses:\n",
    "                semcor_senses[pos].add(syn)\n",
    "                semcor_count[pos] += 1                \n",
    "            else:\n",
    "                semcor_senses[pos] = set()\n",
    "                semcor_senses[pos].add(syn)                \n",
    "                semcor_count[pos] = 1"
   ]
  },
  {
   "cell_type": "code",
   "execution_count": 74,
   "id": "932a6d7d",
   "metadata": {},
   "outputs": [
    {
     "data": {
      "text/plain": [
       "13125"
      ]
     },
     "execution_count": 74,
     "metadata": {},
     "output_type": "execute_result"
    }
   ],
   "source": [
    "len(semcor_senses['NN'])"
   ]
  },
  {
   "cell_type": "code",
   "execution_count": 6,
   "metadata": {},
   "outputs": [],
   "source": [
    "import jsonlines\n",
    "\n",
    "with jsonlines.open('semcor_pos.jsonl', 'w') as f:\n",
    "    f.write(semcor_senses)"
   ]
  },
  {
   "cell_type": "code",
   "execution_count": 69,
   "id": "71ce94c5",
   "metadata": {},
   "outputs": [
    {
     "data": {
      "text/plain": [
       "{'NE': 8741,\n",
       " 'VB': 88081,\n",
       " 'NN': 77920,\n",
       " 'JJ': 31029,\n",
       " 'RB': 18941,\n",
       " 'VBN': 1,\n",
       " 'VBD': 1,\n",
       " 'NNS': 1,\n",
       " 'VBG': 1}"
      ]
     },
     "execution_count": 69,
     "metadata": {},
     "output_type": "execute_result"
    }
   ],
   "source": [
    "semcor_count"
   ]
  },
  {
   "cell_type": "code",
   "execution_count": 75,
   "id": "3e29089b",
   "metadata": {},
   "outputs": [
    {
     "data": {
      "text/plain": [
       "['The',\n",
       " 'Fulton',\n",
       " 'County',\n",
       " 'Grand',\n",
       " 'Jury',\n",
       " 'said',\n",
       " 'Friday',\n",
       " 'an',\n",
       " 'investigation',\n",
       " 'of',\n",
       " 'Atlanta',\n",
       " \"'s\",\n",
       " 'recent',\n",
       " 'primary',\n",
       " 'election',\n",
       " 'produced',\n",
       " '``',\n",
       " 'no',\n",
       " 'evidence',\n",
       " \"''\",\n",
       " 'that',\n",
       " 'any',\n",
       " 'irregularities',\n",
       " 'took',\n",
       " 'place',\n",
       " '.']"
      ]
     },
     "execution_count": 75,
     "metadata": {},
     "output_type": "execute_result"
    }
   ],
   "source": [
    "semcor.sents()[0]"
   ]
  },
  {
   "cell_type": "code",
   "execution_count": 66,
   "id": "565ad4dc",
   "metadata": {},
   "outputs": [
    {
     "name": "stdout",
     "output_type": "stream",
     "text": [
      "(Lemma('group.n.01.group') (NE (NNP Fulton County Grand Jury)))\n",
      "Synset('group.n.01')\n",
      "NE\n",
      "(Lemma('state.v.01.say') (VB said))\n",
      "Synset('state.v.01')\n",
      "VB\n",
      "(Lemma('friday.n.01.Friday') (NN Friday))\n",
      "Synset('friday.n.01')\n",
      "NN\n",
      "(Lemma('probe.n.01.investigation') (NN investigation))\n",
      "Synset('probe.n.01')\n",
      "NN\n",
      "(Lemma('atlanta.n.01.Atlanta') (NN Atlanta))\n",
      "Synset('atlanta.n.01')\n",
      "NN\n",
      "(Lemma('late.s.03.recent') (JJ recent))\n",
      "Synset('late.s.03')\n",
      "JJ\n",
      "(Lemma('primary.n.01.primary_election') (NN primary election))\n",
      "Synset('primary.n.01')\n",
      "NN\n",
      "(Lemma('produce.v.04.produce') (VB produced))\n",
      "Synset('produce.v.04')\n",
      "VB\n",
      "(Lemma('evidence.n.01.evidence') (NN evidence))\n",
      "Synset('evidence.n.01')\n",
      "NN\n",
      "(Lemma('abnormality.n.04.irregularity') (NN irregularities))\n",
      "Synset('abnormality.n.04')\n",
      "NN\n",
      "(Lemma('happen.v.01.take_place') (VB took place))\n",
      "Synset('happen.v.01')\n",
      "VB\n"
     ]
    }
   ],
   "source": [
    "for i in semcor.tagged_sents(tag=\"both\")[0]:\n",
    "    #print(i.label())\n",
    "    if type(i.label()) != str and i.label() is not None:\n",
    "        print(i)\n",
    "        print(i.label().synset())\n",
    "        print(i[0].label())"
   ]
  },
  {
   "cell_type": "code",
   "execution_count": 45,
   "id": "9569898a",
   "metadata": {},
   "outputs": [
    {
     "data": {
      "text/plain": [
       "[Tree('DT', ['The']),\n",
       " Tree(Lemma('group.n.01.group'), [Tree('NE', [Tree('NNP', ['Fulton', 'County', 'Grand', 'Jury'])])]),\n",
       " Tree(Lemma('state.v.01.say'), [Tree('VB', ['said'])]),\n",
       " Tree(Lemma('friday.n.01.Friday'), [Tree('NN', ['Friday'])]),\n",
       " Tree('DT', ['an']),\n",
       " Tree(Lemma('probe.n.01.investigation'), [Tree('NN', ['investigation'])]),\n",
       " Tree('IN', ['of']),\n",
       " Tree(Lemma('atlanta.n.01.Atlanta'), [Tree('NN', ['Atlanta'])]),\n",
       " Tree('POS', [\"'s\"]),\n",
       " Tree(Lemma('late.s.03.recent'), [Tree('JJ', ['recent'])]),\n",
       " Tree(Lemma('primary.n.01.primary_election'), [Tree('NN', ['primary', 'election'])]),\n",
       " Tree(Lemma('produce.v.04.produce'), [Tree('VB', ['produced'])]),\n",
       " Tree(None, ['``']),\n",
       " Tree('DT', ['no']),\n",
       " Tree(Lemma('evidence.n.01.evidence'), [Tree('NN', ['evidence'])]),\n",
       " Tree(None, [\"''\"]),\n",
       " Tree('IN', ['that']),\n",
       " Tree('DT', ['any']),\n",
       " Tree(Lemma('abnormality.n.04.irregularity'), [Tree('NN', ['irregularities'])]),\n",
       " Tree(Lemma('happen.v.01.take_place'), [Tree('VB', ['took', 'place'])]),\n",
       " Tree(None, ['.'])]"
      ]
     },
     "execution_count": 45,
     "metadata": {},
     "output_type": "execute_result"
    }
   ],
   "source": [
    "semcor.tagged_sents(tag=\"both\")[0]"
   ]
  },
  {
   "cell_type": "code",
   "execution_count": 12,
   "id": "59827d5d",
   "metadata": {},
   "outputs": [
    {
     "data": {
      "text/plain": [
       "[Tree('DT', ['The']),\n",
       " Tree('NNP', ['Fulton', 'County', 'Grand', 'Jury']),\n",
       " Tree('VB', ['said']),\n",
       " Tree('NN', ['Friday']),\n",
       " Tree('DT', ['an']),\n",
       " Tree('NN', ['investigation']),\n",
       " Tree('IN', ['of']),\n",
       " Tree('NN', ['Atlanta']),\n",
       " Tree('POS', [\"'s\"]),\n",
       " Tree('JJ', ['recent']),\n",
       " Tree('NN', ['primary', 'election']),\n",
       " Tree('VB', ['produced']),\n",
       " Tree(None, ['``']),\n",
       " Tree('DT', ['no']),\n",
       " Tree('NN', ['evidence']),\n",
       " Tree(None, [\"''\"]),\n",
       " Tree('IN', ['that']),\n",
       " Tree('DT', ['any']),\n",
       " Tree('NN', ['irregularities']),\n",
       " Tree('VB', ['took', 'place']),\n",
       " Tree(None, ['.'])]"
      ]
     },
     "execution_count": 12,
     "metadata": {},
     "output_type": "execute_result"
    }
   ],
   "source": [
    "semcor.tagged_sents(tag=\"pos\")[0]"
   ]
  },
  {
   "cell_type": "code",
   "execution_count": 44,
   "id": "4a1235f9",
   "metadata": {},
   "outputs": [
    {
     "name": "stdout",
     "output_type": "stream",
     "text": [
      "(Lemma('group.n.01.group') (NE Fulton County Grand Jury))\n",
      "group%1:03:00::\n",
      "Synset('group.n.01')\n",
      "\n",
      "(Lemma('state.v.01.say') said)\n",
      "say%2:32:00::\n",
      "Synset('state.v.01')\n",
      "\n",
      "(Lemma('friday.n.01.Friday') Friday)\n",
      "friday%1:28:00::\n",
      "Synset('friday.n.01')\n",
      "\n",
      "(Lemma('probe.n.01.investigation') investigation)\n",
      "investigation%1:09:00::\n",
      "Synset('probe.n.01')\n",
      "\n",
      "(Lemma('atlanta.n.01.Atlanta') Atlanta)\n",
      "atlanta%1:15:00::\n",
      "Synset('atlanta.n.01')\n",
      "\n",
      "(Lemma('late.s.03.recent') recent)\n",
      "recent%5:00:00:past:00\n",
      "Synset('late.s.03')\n",
      "\n",
      "(Lemma('primary.n.01.primary_election') primary election)\n",
      "primary_election%1:04:00::\n",
      "Synset('primary.n.01')\n",
      "\n",
      "(Lemma('produce.v.04.produce') produced)\n",
      "produce%2:39:01::\n",
      "Synset('produce.v.04')\n",
      "\n",
      "(Lemma('evidence.n.01.evidence') evidence)\n",
      "evidence%1:09:00::\n",
      "Synset('evidence.n.01')\n",
      "\n",
      "(Lemma('abnormality.n.04.irregularity') irregularities)\n",
      "irregularity%1:04:00::\n",
      "Synset('abnormality.n.04')\n",
      "\n",
      "(Lemma('happen.v.01.take_place') took place)\n",
      "take_place%2:30:00::\n",
      "Synset('happen.v.01')\n",
      "\n"
     ]
    }
   ],
   "source": [
    "for i in semcor.tagged_sents(tag=\"sem\")[0]:\n",
    "    if type(i) != list:\n",
    "        print(i)\n",
    "        print(i.label().key())\n",
    "        print(i.label().synset())\n",
    "        print()"
   ]
  },
  {
   "cell_type": "code",
   "execution_count": null,
   "id": "351b31c1",
   "metadata": {},
   "outputs": [],
   "source": []
  },
  {
   "cell_type": "code",
   "execution_count": null,
   "id": "6cf46714",
   "metadata": {},
   "outputs": [],
   "source": []
  }
 ],
 "metadata": {
  "kernelspec": {
   "display_name": "Python 3",
   "language": "python",
   "name": "python3"
  },
  "language_info": {
   "codemirror_mode": {
    "name": "ipython",
    "version": 3
   },
   "file_extension": ".py",
   "mimetype": "text/x-python",
   "name": "python",
   "nbconvert_exporter": "python",
   "pygments_lexer": "ipython3",
   "version": "3.9.6"
  }
 },
 "nbformat": 4,
 "nbformat_minor": 5
}
